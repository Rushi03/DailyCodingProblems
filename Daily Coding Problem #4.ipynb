{
 "cells": [
  {
   "cell_type": "markdown",
   "metadata": {},
   "source": [
    "Write a function that returns the most popular word in a file.\n",
    "\n",
    "Caveat: Words that are misspelled are considered the same.\n",
    "\n",
    "Example:\n",
    "Google == Golego,\n",
    "Amazon == Amanzo,\n",
    "Intel == Inlet,\n",
    "Google != Goooogle,\n",
    "Amazon != Aaamaazon,\n",
    "Intel != Intell"
   ]
  },
  {
   "cell_type": "code",
   "execution_count": 1,
   "metadata": {},
   "outputs": [],
   "source": [
    "def popularWord(words):\n",
    "    table = {}\n",
    "    count = 1\n",
    "    highest = 0\n",
    "    \n",
    "    if words == '':\n",
    "        return \"Not a valid list.\"\n",
    "        \n",
    "    # Sort words and add them to the dictionary    \n",
    "    for word in words:\n",
    "        wordSorted = ''.join(sorted(word))\n",
    "        if wordSorted in table:\n",
    "            table[wordSorted] = [word, count + 1]\n",
    "        else:\n",
    "            table[wordSorted] = [word, count]\n",
    "\n",
    "    # Retrieve popular word from list\n",
    "    for x,y in table.values():\n",
    "        if y > highest:\n",
    "            highest = y\n",
    "            popWord = x\n",
    "    \n",
    "    return popWord"
   ]
  },
  {
   "cell_type": "code",
   "execution_count": 2,
   "metadata": {},
   "outputs": [
    {
     "data": {
      "text/plain": [
       "'Google'"
      ]
     },
     "execution_count": 2,
     "metadata": {},
     "output_type": "execute_result"
    }
   ],
   "source": [
    "popularWord(['Golego', 'google', 'Gooooogle', 'Intel', 'Google', 'Amazon', 'Aamaazoon'])"
   ]
  },
  {
   "cell_type": "code",
   "execution_count": 3,
   "metadata": {},
   "outputs": [
    {
     "data": {
      "text/plain": [
       "'letIn'"
      ]
     },
     "execution_count": 3,
     "metadata": {},
     "output_type": "execute_result"
    }
   ],
   "source": [
    "popularWord(['intel', 'Intel', 'LinkedIn', 'spotify', 'netIl', 'letIn'])"
   ]
  },
  {
   "cell_type": "code",
   "execution_count": 4,
   "metadata": {},
   "outputs": [
    {
     "data": {
      "text/plain": [
       "'A'"
      ]
     },
     "execution_count": 4,
     "metadata": {},
     "output_type": "execute_result"
    }
   ],
   "source": [
    "popularWord('Amazon')"
   ]
  },
  {
   "cell_type": "code",
   "execution_count": 5,
   "metadata": {},
   "outputs": [
    {
     "data": {
      "text/plain": [
       "'Not a valid list.'"
      ]
     },
     "execution_count": 5,
     "metadata": {},
     "output_type": "execute_result"
    }
   ],
   "source": [
    "popularWord('')"
   ]
  },
  {
   "cell_type": "markdown",
   "metadata": {},
   "source": [
    "The time complexity for poularWord is O(m + n) => O(n) due to the two for loops. The space complexity is O(n) due to the n length of the given list as a parameter."
   ]
  },
  {
   "cell_type": "code",
   "execution_count": 6,
   "metadata": {},
   "outputs": [],
   "source": [
    "import operator\n",
    "\n",
    "def popularWord2(words):\n",
    "    table = {}\n",
    "    count = 1\n",
    "    \n",
    "    if words == '':\n",
    "        return \"Not a valid list.\"\n",
    "        \n",
    "    # Sort words and add them to the dictionary     \n",
    "    for word in words:\n",
    "        wordSorted = ''.join(sorted(word))\n",
    "        if wordSorted in table:\n",
    "            table[wordSorted] = count + 1\n",
    "        else:\n",
    "            table[wordSorted] = count\n",
    "            \n",
    "    # Return popular sorted word\n",
    "    return max(table.iteritems(), key=operator.itemgetter(1))[0]"
   ]
  },
  {
   "cell_type": "code",
   "execution_count": 7,
   "metadata": {},
   "outputs": [
    {
     "data": {
      "text/plain": [
       "'Gegloo'"
      ]
     },
     "execution_count": 7,
     "metadata": {},
     "output_type": "execute_result"
    }
   ],
   "source": [
    "popularWord2(['Golego', 'google', 'Gooooogle', 'Intel', 'Google', 'Amazon', 'Aamaazoon'])"
   ]
  },
  {
   "cell_type": "code",
   "execution_count": 8,
   "metadata": {},
   "outputs": [
    {
     "data": {
      "text/plain": [
       "'Ielnt'"
      ]
     },
     "execution_count": 8,
     "metadata": {},
     "output_type": "execute_result"
    }
   ],
   "source": [
    "popularWord2(['intel', 'Intel', 'LinkedIn', 'spotify', 'netIl', 'letIn'])"
   ]
  },
  {
   "cell_type": "code",
   "execution_count": 9,
   "metadata": {},
   "outputs": [
    {
     "data": {
      "text/plain": [
       "'A'"
      ]
     },
     "execution_count": 9,
     "metadata": {},
     "output_type": "execute_result"
    }
   ],
   "source": [
    "popularWord2('Amazon')"
   ]
  },
  {
   "cell_type": "code",
   "execution_count": 10,
   "metadata": {},
   "outputs": [
    {
     "data": {
      "text/plain": [
       "'Not a valid list.'"
      ]
     },
     "execution_count": 10,
     "metadata": {},
     "output_type": "execute_result"
    }
   ],
   "source": [
    "popularWord2('')"
   ]
  },
  {
   "cell_type": "markdown",
   "metadata": {},
   "source": [
    "The time complexity for poularWord2 is O(n) due to the one for loop. The space complexity is O(n) due to the n length of the given list as a parameter."
   ]
  }
 ],
 "metadata": {
  "kernelspec": {
   "display_name": "Python [conda env:anaconda3]",
   "language": "python",
   "name": "conda-env-anaconda3-py"
  },
  "language_info": {
   "codemirror_mode": {
    "name": "ipython",
    "version": 2
   },
   "file_extension": ".py",
   "mimetype": "text/x-python",
   "name": "python",
   "nbconvert_exporter": "python",
   "pygments_lexer": "ipython2",
   "version": "2.7.15"
  }
 },
 "nbformat": 4,
 "nbformat_minor": 2
}
