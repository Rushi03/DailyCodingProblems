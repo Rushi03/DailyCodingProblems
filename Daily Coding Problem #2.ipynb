{
 "cells": [
  {
   "cell_type": "markdown",
   "metadata": {},
   "source": [
    "Given an array of integers, return a new array such that each element at index i of the new array is the product of all the numbers in the original array except the one at i.\n",
    "\n",
    "For example, if our input was [1, 2, 3, 4, 5], the expected output would be [120, 60, 40, 30, 24]. If our input was [3, 2, 1], the expected output would be [2, 3, 6].\n",
    "\n",
    "Follow-up: what if you can't use division?"
   ]
  },
  {
   "cell_type": "code",
   "execution_count": 1,
   "metadata": {},
   "outputs": [],
   "source": [
    "from array import *\n",
    "\n",
    "def multiples(arr):\n",
    "    value = 0\n",
    "    result = 1\n",
    "    # Output array\n",
    "    resultarr = array('i', []) \n",
    "    \n",
    "    for x in range(0, len(arr)):\n",
    "        # Multiple of all values in array\n",
    "        result *= arr[x] \n",
    "    for y in range(0, len(arr)):\n",
    "        # Divide the result by value at each index\n",
    "        value = result / arr[y] \n",
    "        resultarr.append(value)\n",
    "    return resultarr"
   ]
  },
  {
   "cell_type": "code",
   "execution_count": 2,
   "metadata": {},
   "outputs": [
    {
     "name": "stdout",
     "output_type": "stream",
     "text": [
      "array('i', [120, 60, 40, 30, 24])\n"
     ]
    }
   ],
   "source": [
    "from array import *\n",
    "given = array('i', [1, 2, 3, 4, 5])\n",
    "print(multiples(given))"
   ]
  },
  {
   "cell_type": "markdown",
   "metadata": {},
   "source": [
    "The time complexity of the function multiples is O(n)."
   ]
  },
  {
   "cell_type": "markdown",
   "metadata": {},
   "source": [
    "Below is the proof for the time complexity."
   ]
  },
  {
   "cell_type": "code",
   "execution_count": 3,
   "metadata": {},
   "outputs": [],
   "source": [
    "from array import *\n",
    "import time\n",
    "\n",
    "def multiples(arr):\n",
    "    value = 0\n",
    "    result = 1\n",
    "    # Output array\n",
    "    resultarr = array('i', []) \n",
    "    \n",
    "    start = time.time()\n",
    "    for x in range(0, len(arr)):\n",
    "        # Multiple of all values in array\n",
    "        result *= arr[x] \n",
    "    for y in range(0, len(arr)):\n",
    "        # Divide the result by value at each index\n",
    "        value = result / arr[y] \n",
    "        resultarr.append(value)\n",
    "    end = time.time()\n",
    "    total_time = end - start\n",
    "    print(\"Total time: {}\").format(total_time)\n",
    "    return resultarr"
   ]
  },
  {
   "cell_type": "code",
   "execution_count": 4,
   "metadata": {},
   "outputs": [
    {
     "name": "stdout",
     "output_type": "stream",
     "text": [
      "Total time: 2.00271606445e-05\n"
     ]
    },
    {
     "data": {
      "text/plain": [
       "array('i', [360, 240, 180, 144, 120])"
      ]
     },
     "execution_count": 4,
     "metadata": {},
     "output_type": "execute_result"
    }
   ],
   "source": [
    "arrTest = array('i', [2, 3, 4, 5, 6])\n",
    "multiples(arrTest)"
   ]
  },
  {
   "cell_type": "code",
   "execution_count": 5,
   "metadata": {},
   "outputs": [
    {
     "name": "stdout",
     "output_type": "stream",
     "text": [
      "Total time: 2.00271606445e-05\n"
     ]
    },
    {
     "data": {
      "text/plain": [
       "array('i', [2520, 840, 630, 504, 420, 360])"
      ]
     },
     "execution_count": 5,
     "metadata": {},
     "output_type": "execute_result"
    }
   ],
   "source": [
    "arrTest = array('i', [1, 3, 4, 5, 6, 7])\n",
    "multiples(arrTest)"
   ]
  },
  {
   "cell_type": "code",
   "execution_count": 6,
   "metadata": {},
   "outputs": [
    {
     "name": "stdout",
     "output_type": "stream",
     "text": [
      "Total time: 1.78813934326e-05\n"
     ]
    },
    {
     "data": {
      "text/plain": [
       "array('i', [25920, 17280, 12960, 10368, 8640, 6480, 5760])"
      ]
     },
     "execution_count": 6,
     "metadata": {},
     "output_type": "execute_result"
    }
   ],
   "source": [
    "arrTest = array('i', [2, 3, 4, 5, 6, 8, 9])\n",
    "multiples(arrTest)"
   ]
  },
  {
   "cell_type": "code",
   "execution_count": 7,
   "metadata": {},
   "outputs": [
    {
     "name": "stdout",
     "output_type": "stream",
     "text": [
      "Total time: 2.09808349609e-05\n"
     ]
    },
    {
     "data": {
      "text/plain": [
       "array('i', [1900800, 950400, 633600, 475200, 380160, 316800, 190080, 172800, 79200])"
      ]
     },
     "execution_count": 7,
     "metadata": {},
     "output_type": "execute_result"
    }
   ],
   "source": [
    "arrTest = array('i', [1, 2, 3, 4, 5, 6, 10, 11, 24])\n",
    "multiples(arrTest)"
   ]
  },
  {
   "cell_type": "code",
   "execution_count": 8,
   "metadata": {},
   "outputs": [
    {
     "name": "stdout",
     "output_type": "stream",
     "text": [
      "Total time: 2.90870666504e-05\n"
     ]
    },
    {
     "data": {
      "text/plain": [
       "array('i', [216000000, 432000000, 288000000, 216000000, 172800000, 144000000, 432000000, 216000000, 34560000, 172800000, 28800000, 86400000])"
      ]
     },
     "execution_count": 8,
     "metadata": {},
     "output_type": "execute_result"
    }
   ],
   "source": [
    "arrTest = array('i', [4, 2, 3, 4, 5, 6, 2, 4, 25, 5, 30, 10])\n",
    "multiples(arrTest)"
   ]
  },
  {
   "cell_type": "code",
   "execution_count": 9,
   "metadata": {},
   "outputs": [],
   "source": [
    "from array import *\n",
    "\n",
    "def multiples2(arr):\n",
    "    result = 1\n",
    "    count = 0\n",
    "    resultArr = array('i', [])\n",
    "    \n",
    "    for x in range(0, len(arr)):\n",
    "        for y in range(0, len(arr)):\n",
    "            # Make index = 1 when multilpying values\n",
    "            if x == y:\n",
    "                result *=1\n",
    "            else:    \n",
    "                result *= arr[y]\n",
    "        resultArr.append(result)\n",
    "        result = 1\n",
    "        count += 1\n",
    "    return resultArr"
   ]
  },
  {
   "cell_type": "code",
   "execution_count": 10,
   "metadata": {},
   "outputs": [
    {
     "data": {
      "text/plain": [
       "array('i', [120, 60, 40, 30, 24])"
      ]
     },
     "execution_count": 10,
     "metadata": {},
     "output_type": "execute_result"
    }
   ],
   "source": [
    "given2 = array('i', [1, 2, 3, 4, 5])\n",
    "multiples2(given2)"
   ]
  },
  {
   "cell_type": "markdown",
   "metadata": {},
   "source": [
    "The time complexity of the function multiples2 is O(n^2)."
   ]
  },
  {
   "cell_type": "markdown",
   "metadata": {},
   "source": [
    "Below is the proof for the time complexity."
   ]
  },
  {
   "cell_type": "code",
   "execution_count": 11,
   "metadata": {},
   "outputs": [],
   "source": [
    "from array import *\n",
    "import time\n",
    "\n",
    "def multiples2(arr):\n",
    "    result = 1\n",
    "    count = 0\n",
    "    resultArr = array('i', [])\n",
    "    \n",
    "    start = time.time()\n",
    "    for x in range(0, len(arr)):\n",
    "        for y in range(0, len(arr)):\n",
    "            # Make index = 1 when multilpying values\n",
    "            if x == y:\n",
    "                result *=1\n",
    "            else:    \n",
    "                result *= arr[y]\n",
    "        resultArr.append(result)\n",
    "        result = 1\n",
    "        count += 1\n",
    "    end = time.time()\n",
    "    total_time = end - start\n",
    "    print(\"Total time: {}\").format(total_time)\n",
    "    return resultArr"
   ]
  },
  {
   "cell_type": "code",
   "execution_count": 12,
   "metadata": {
    "scrolled": true
   },
   "outputs": [
    {
     "name": "stdout",
     "output_type": "stream",
     "text": [
      "Total time: 4.00543212891e-05\n"
     ]
    },
    {
     "data": {
      "text/plain": [
       "array('i', [360, 240, 180, 144, 120])"
      ]
     },
     "execution_count": 12,
     "metadata": {},
     "output_type": "execute_result"
    }
   ],
   "source": [
    "arrTest = array('i', [2, 3, 4, 5, 6])\n",
    "multiples2(arrTest)"
   ]
  },
  {
   "cell_type": "code",
   "execution_count": 13,
   "metadata": {},
   "outputs": [
    {
     "name": "stdout",
     "output_type": "stream",
     "text": [
      "Total time: 7.00950622559e-05\n"
     ]
    },
    {
     "data": {
      "text/plain": [
       "array('i', [2520, 840, 630, 504, 420, 360])"
      ]
     },
     "execution_count": 13,
     "metadata": {},
     "output_type": "execute_result"
    }
   ],
   "source": [
    "arrTest = array('i', [1, 3, 4, 5, 6, 7])\n",
    "multiples2(arrTest)"
   ]
  },
  {
   "cell_type": "code",
   "execution_count": 14,
   "metadata": {},
   "outputs": [
    {
     "name": "stdout",
     "output_type": "stream",
     "text": [
      "Total time: 5.88893890381e-05\n"
     ]
    },
    {
     "data": {
      "text/plain": [
       "array('i', [25920, 17280, 12960, 10368, 8640, 6480, 5760])"
      ]
     },
     "execution_count": 14,
     "metadata": {},
     "output_type": "execute_result"
    }
   ],
   "source": [
    "arrTest = array('i', [2, 3, 4, 5, 6, 8, 9])\n",
    "multiples2(arrTest)"
   ]
  },
  {
   "cell_type": "code",
   "execution_count": 15,
   "metadata": {},
   "outputs": [
    {
     "name": "stdout",
     "output_type": "stream",
     "text": [
      "Total time: 8.79764556885e-05\n"
     ]
    },
    {
     "data": {
      "text/plain": [
       "array('i', [1900800, 950400, 633600, 475200, 380160, 316800, 190080, 172800, 79200])"
      ]
     },
     "execution_count": 15,
     "metadata": {},
     "output_type": "execute_result"
    }
   ],
   "source": [
    "arrTest = array('i', [1, 2, 3, 4, 5, 6, 10, 11, 24])\n",
    "multiples2(arrTest)"
   ]
  },
  {
   "cell_type": "code",
   "execution_count": 16,
   "metadata": {},
   "outputs": [
    {
     "name": "stdout",
     "output_type": "stream",
     "text": [
      "Total time: 0.0001380443573\n"
     ]
    },
    {
     "data": {
      "text/plain": [
       "array('i', [216000000, 432000000, 288000000, 216000000, 172800000, 144000000, 432000000, 216000000, 34560000, 172800000, 28800000, 86400000])"
      ]
     },
     "execution_count": 16,
     "metadata": {},
     "output_type": "execute_result"
    }
   ],
   "source": [
    "arrTest = array('i', [4, 2, 3, 4, 5, 6, 2, 4, 25, 5, 30, 10])\n",
    "multiples2(arrTest)"
   ]
  }
 ],
 "metadata": {
  "kernelspec": {
   "display_name": "Python [conda env:anaconda3]",
   "language": "python",
   "name": "conda-env-anaconda3-py"
  },
  "language_info": {
   "codemirror_mode": {
    "name": "ipython",
    "version": 2
   },
   "file_extension": ".py",
   "mimetype": "text/x-python",
   "name": "python",
   "nbconvert_exporter": "python",
   "pygments_lexer": "ipython2",
   "version": "2.7.15"
  }
 },
 "nbformat": 4,
 "nbformat_minor": 2
}
