{
 "cells": [
  {
   "cell_type": "markdown",
   "metadata": {},
   "source": [
    "cons(a, b) constructs a pair, and car(pair) and cdr(pair) returns the first and last element of that pair. For example, car(cons(3, 4)) returns 3, and cdr(cons(3, 4)) returns 4.\n",
    "\n",
    "Given this implementation of cons:\n",
    "\n",
    "def cons(a, b):\n",
    "    def pair(f):\n",
    "        return f(a, b)\n",
    "    return pair\n",
    "Implement car and cdr."
   ]
  },
  {
   "cell_type": "code",
   "execution_count": 4,
   "metadata": {},
   "outputs": [],
   "source": [
    "# Closure\n",
    "def cons(a, b):\n",
    "    def pair(f):\n",
    "        return f(a, b)\n",
    "    return pair\n",
    "\n",
    "# Get first element in pair\n",
    "def car(x, y):\n",
    "    return x\n",
    "\n",
    "# Get last element in pair\n",
    "def cdr(x, y):\n",
    "    return y"
   ]
  },
  {
   "cell_type": "code",
   "execution_count": 3,
   "metadata": {},
   "outputs": [
    {
     "name": "stdout",
     "output_type": "stream",
     "text": [
      "First element: 3, last element: 4\n",
      "First element: 6, last element: 7\n",
      "First element: 10, last element: 3\n",
      "First element: 100, last element: 300\n",
      "First element: 1001, last element: 500\n"
     ]
    }
   ],
   "source": [
    "pairs = cons(3, 4)\n",
    "firstElement = pairs(car)\n",
    "lastElement = pairs(cdr)\n",
    "print(\"First element: {}, last element: {}\").format(firstElement, lastElement)\n",
    "\n",
    "pairs = cons(6, 7)\n",
    "firstElement = pairs(car)\n",
    "lastElement = pairs(cdr)\n",
    "print(\"First element: {}, last element: {}\").format(firstElement, lastElement)\n",
    "\n",
    "pairs = cons(10, 3)\n",
    "firstElement = pairs(car)\n",
    "lastElement = pairs(cdr)\n",
    "print(\"First element: {}, last element: {}\").format(firstElement, lastElement)\n",
    "\n",
    "pairs = cons(100, 300)\n",
    "firstElement = pairs(car)\n",
    "lastElement = pairs(cdr)\n",
    "print(\"First element: {}, last element: {}\").format(firstElement, lastElement)\n",
    "\n",
    "pairs = cons(1001, 500)\n",
    "firstElement = pairs(car)\n",
    "lastElement = pairs(cdr)\n",
    "print(\"First element: {}, last element: {}\").format(firstElement, lastElement)"
   ]
  },
  {
   "cell_type": "markdown",
   "metadata": {},
   "source": [
    "The functions cons, car, and cdr have a time complexity and space complexity of O(1)."
   ]
  }
 ],
 "metadata": {
  "kernelspec": {
   "display_name": "Python [conda env:anaconda3]",
   "language": "python",
   "name": "conda-env-anaconda3-py"
  },
  "language_info": {
   "codemirror_mode": {
    "name": "ipython",
    "version": 2
   },
   "file_extension": ".py",
   "mimetype": "text/x-python",
   "name": "python",
   "nbconvert_exporter": "python",
   "pygments_lexer": "ipython2",
   "version": "2.7.15"
  }
 },
 "nbformat": 4,
 "nbformat_minor": 2
}
