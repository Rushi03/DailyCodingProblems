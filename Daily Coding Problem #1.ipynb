{
 "cells": [
  {
   "cell_type": "markdown",
   "metadata": {},
   "source": [
    "Given a list of numbers and a number k, return whether any two numbers from the list add up to k.\n",
    "\n",
    "For example, given [10, 15, 3, 7] and k of 17, return true since 10 + 7 is 17.\n",
    "\n",
    "Bonus: Can you do this in one pass?"
   ]
  },
  {
   "cell_type": "code",
   "execution_count": 1,
   "metadata": {},
   "outputs": [],
   "source": [
    "def any_sum(given_list, k):\n",
    "    i = 0\n",
    "    count = 0\n",
    "    pairs = {}\n",
    "    \n",
    "    while i != len(given_list)-1:\n",
    "        for complement in range(i+1, len(given_list)):\n",
    "            total = given_list[i] + given_list[complement]\n",
    "            if total == k:\n",
    "                pairs[given_list[i]] = given_list[complement]\n",
    "                count += 1\n",
    "                #return True       \n",
    "        i += 1\n",
    "    print(\"Found pair(s): {}, {}\").format(count, pairs)"
   ]
  },
  {
   "cell_type": "code",
   "execution_count": 2,
   "metadata": {},
   "outputs": [
    {
     "name": "stdout",
     "output_type": "stream",
     "text": [
      "Found pair(s): 1, {10: 7}\n",
      "Found pair(s): 0, {}\n",
      "Found pair(s): 2, {10: 9, 12: 7}\n"
     ]
    }
   ],
   "source": [
    "any_sum([10, 15, 3, 7], 17)\n",
    "any_sum([12, 45, 23, 3], 46)\n",
    "any_sum([12, 10, 7, 8, 9, 20], 19)"
   ]
  },
  {
   "cell_type": "markdown",
   "metadata": {},
   "source": [
    "Function any_sum has a time complexity of O(n^2) due to the nested loops (while & for)."
   ]
  },
  {
   "cell_type": "markdown",
   "metadata": {},
   "source": [
    "Below is the proof for the time complexity."
   ]
  },
  {
   "cell_type": "code",
   "execution_count": 3,
   "metadata": {},
   "outputs": [],
   "source": [
    "import time\n",
    "\n",
    "def any_sum(given_list, k):\n",
    "    i = 0\n",
    "    count = 0\n",
    "    pairs = {}\n",
    "    \n",
    "    start = time.time()\n",
    "    while i != len(given_list)-1:\n",
    "        for complement in range(i+1, len(given_list)):\n",
    "            total = given_list[i] + given_list[complement]\n",
    "            if total == k:\n",
    "                pairs[given_list[i]] = given_list[complement]\n",
    "                count += 1\n",
    "                #return True       \n",
    "        i += 1\n",
    "    end = time.time()\n",
    "    total_time = end - start\n",
    "    print(\"Found pair(s): {}, {}\").format(count, pairs)\n",
    "    print(\"Time: {} seconds\").format(total_time)"
   ]
  },
  {
   "cell_type": "code",
   "execution_count": 4,
   "metadata": {},
   "outputs": [
    {
     "name": "stdout",
     "output_type": "stream",
     "text": [
      "Found pair(s): 1, {10: 7}\n",
      "Time: 1.78813934326e-05 seconds\n",
      "Found pair(s): 0, {}\n",
      "Time: 2.09808349609e-05 seconds\n",
      "Found pair(s): 2, {10: 9, 12: 7}\n",
      "Time: 2.88486480713e-05 seconds\n",
      "Found pair(s): 2, {0: 47, 13: 34}\n",
      "Time: 0.000134944915771 seconds\n"
     ]
    }
   ],
   "source": [
    "any_sum([10, 15, 3, 7], 17)\n",
    "any_sum([12, 45, 23, 3], 46)\n",
    "any_sum([12, 10, 7, 8, 9, 20], 19)\n",
    "any_sum([13, 56, 78, 34, 25, 0, 9, 30, 52, 47], 47)"
   ]
  }
 ],
 "metadata": {
  "kernelspec": {
   "display_name": "Python [conda env:anaconda3]",
   "language": "python",
   "name": "conda-env-anaconda3-py"
  },
  "language_info": {
   "codemirror_mode": {
    "name": "ipython",
    "version": 2
   },
   "file_extension": ".py",
   "mimetype": "text/x-python",
   "name": "python",
   "nbconvert_exporter": "python",
   "pygments_lexer": "ipython2",
   "version": "2.7.15"
  }
 },
 "nbformat": 4,
 "nbformat_minor": 2
}
