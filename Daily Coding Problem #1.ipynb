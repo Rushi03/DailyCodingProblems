{
 "cells": [
  {
   "cell_type": "markdown",
   "metadata": {},
   "source": [
    "Given a list of numbers and a number k, return whether any two numbers from the list add up to k.\n",
    "\n",
    "For example, given [10, 15, 3, 7] and k of 17, return true since 10 + 7 is 17.\n",
    "\n",
    "Bonus: Can you do this in one pass?"
   ]
  },
  {
   "cell_type": "code",
   "execution_count": 1,
   "metadata": {},
   "outputs": [],
   "source": [
    "def any_sum(given_list, k):\n",
    "    i = 0\n",
    "    count = 0\n",
    "    pairs = {}\n",
    "    \n",
    "    while i != len(given_list)-1:\n",
    "        for complement in range(i+1, len(given_list)):\n",
    "            total = given_list[i] + given_list[complement]\n",
    "            if total == k:\n",
    "                pairs[given_list[i]] = given_list[complement]\n",
    "                count += 1\n",
    "                #return True       \n",
    "        i += 1\n",
    "    print(\"Found pair(s): {}, {}\").format(count, pairs)\n",
    "    return pairs"
   ]
  },
  {
   "cell_type": "code",
   "execution_count": 2,
   "metadata": {},
   "outputs": [
    {
     "name": "stdout",
     "output_type": "stream",
     "text": [
      "Found pair(s): 1, {10: 7}\n"
     ]
    },
    {
     "data": {
      "text/plain": [
       "{10: 7}"
      ]
     },
     "execution_count": 2,
     "metadata": {},
     "output_type": "execute_result"
    }
   ],
   "source": [
    "any_sum([10, 15, 3, 7], 17)"
   ]
  },
  {
   "cell_type": "code",
   "execution_count": 3,
   "metadata": {},
   "outputs": [
    {
     "name": "stdout",
     "output_type": "stream",
     "text": [
      "Found pair(s): 0, {}\n"
     ]
    },
    {
     "data": {
      "text/plain": [
       "{}"
      ]
     },
     "execution_count": 3,
     "metadata": {},
     "output_type": "execute_result"
    }
   ],
   "source": [
    "any_sum([12, 45, 23, 3], 46)"
   ]
  },
  {
   "cell_type": "code",
   "execution_count": 4,
   "metadata": {},
   "outputs": [
    {
     "name": "stdout",
     "output_type": "stream",
     "text": [
      "Found pair(s): 2, {10: 9, 12: 7}\n"
     ]
    },
    {
     "data": {
      "text/plain": [
       "{10: 9, 12: 7}"
      ]
     },
     "execution_count": 4,
     "metadata": {},
     "output_type": "execute_result"
    }
   ],
   "source": [
    "any_sum([12, 10, 7, 8, 9, 20], 19)"
   ]
  },
  {
   "cell_type": "markdown",
   "metadata": {},
   "source": [
    "Function any_sum has a time complexity of O(n^2) due to the nested loops (while & for).\n",
    "\n",
    "Below is the proof for the time complexity."
   ]
  },
  {
   "cell_type": "code",
   "execution_count": 5,
   "metadata": {},
   "outputs": [],
   "source": [
    "import time\n",
    "\n",
    "def any_sum(given_list, k):\n",
    "    i = 0\n",
    "    count = 0\n",
    "    pairs = {}\n",
    "    \n",
    "    start = time.time()\n",
    "    while i != len(given_list)-1:\n",
    "        for complement in range(i+1, len(given_list)):\n",
    "            total = given_list[i] + given_list[complement]\n",
    "            if total == k:\n",
    "                pairs[given_list[i]] = given_list[complement]\n",
    "                count += 1\n",
    "                #return True       \n",
    "        i += 1\n",
    "    end = time.time()\n",
    "    total_time = end - start\n",
    "    print(\"Found pair(s): {}, {}\").format(count, pairs)\n",
    "    print(\"Time: {} seconds\").format(total_time)\n",
    "    return pairs"
   ]
  },
  {
   "cell_type": "code",
   "execution_count": 6,
   "metadata": {},
   "outputs": [
    {
     "name": "stdout",
     "output_type": "stream",
     "text": [
      "Found pair(s): 1, {10: 7}\n",
      "Time: 1.21593475342e-05 seconds\n"
     ]
    },
    {
     "data": {
      "text/plain": [
       "{10: 7}"
      ]
     },
     "execution_count": 6,
     "metadata": {},
     "output_type": "execute_result"
    }
   ],
   "source": [
    "any_sum([10, 15, 3, 7], 17)"
   ]
  },
  {
   "cell_type": "code",
   "execution_count": 7,
   "metadata": {},
   "outputs": [
    {
     "name": "stdout",
     "output_type": "stream",
     "text": [
      "Found pair(s): 0, {}\n",
      "Time: 1.50203704834e-05 seconds\n"
     ]
    },
    {
     "data": {
      "text/plain": [
       "{}"
      ]
     },
     "execution_count": 7,
     "metadata": {},
     "output_type": "execute_result"
    }
   ],
   "source": [
    "any_sum([12, 45, 23, 3], 46)"
   ]
  },
  {
   "cell_type": "code",
   "execution_count": 8,
   "metadata": {},
   "outputs": [
    {
     "name": "stdout",
     "output_type": "stream",
     "text": [
      "Found pair(s): 2, {10: 9, 12: 7}\n",
      "Time: 2.00271606445e-05 seconds\n"
     ]
    },
    {
     "data": {
      "text/plain": [
       "{10: 9, 12: 7}"
      ]
     },
     "execution_count": 8,
     "metadata": {},
     "output_type": "execute_result"
    }
   ],
   "source": [
    "any_sum([12, 10, 7, 8, 9, 20], 19)"
   ]
  },
  {
   "cell_type": "code",
   "execution_count": 9,
   "metadata": {},
   "outputs": [
    {
     "name": "stdout",
     "output_type": "stream",
     "text": [
      "Found pair(s): 2, {0: 47, 13: 34}\n",
      "Time: 2.90870666504e-05 seconds\n"
     ]
    },
    {
     "data": {
      "text/plain": [
       "{0: 47, 13: 34}"
      ]
     },
     "execution_count": 9,
     "metadata": {},
     "output_type": "execute_result"
    }
   ],
   "source": [
    "any_sum([13, 56, 78, 34, 25, 0, 9, 30, 52, 47], 47)"
   ]
  },
  {
   "cell_type": "code",
   "execution_count": 10,
   "metadata": {},
   "outputs": [],
   "source": [
    "def any_2sum(arr, sumValue):\n",
    "    pairs = []\n",
    "    table = {}\n",
    "    \n",
    "    for i in range(0, len(arr)):\n",
    "        # Get complimentary number to make sum\n",
    "        complimentaryNumber = sumValue - arr[i]\n",
    "        \n",
    "        if complimentaryNumber in table:\n",
    "            # Make list of pair(s)\n",
    "            pairs.append([arr[i], complimentaryNumber])\n",
    "        # Add value into table    \n",
    "        table[arr[i]] = arr[i]\n",
    "    return pairs"
   ]
  },
  {
   "cell_type": "code",
   "execution_count": 11,
   "metadata": {},
   "outputs": [
    {
     "data": {
      "text/plain": [
       "[[7, 10]]"
      ]
     },
     "execution_count": 11,
     "metadata": {},
     "output_type": "execute_result"
    }
   ],
   "source": [
    "any_2sum([10, 15, 3, 7], 17)"
   ]
  },
  {
   "cell_type": "code",
   "execution_count": 12,
   "metadata": {},
   "outputs": [
    {
     "data": {
      "text/plain": [
       "[]"
      ]
     },
     "execution_count": 12,
     "metadata": {},
     "output_type": "execute_result"
    }
   ],
   "source": [
    "any_2sum([12, 45, 23, 3], 46)"
   ]
  },
  {
   "cell_type": "code",
   "execution_count": 13,
   "metadata": {},
   "outputs": [
    {
     "data": {
      "text/plain": [
       "[[7, 12], [9, 10]]"
      ]
     },
     "execution_count": 13,
     "metadata": {},
     "output_type": "execute_result"
    }
   ],
   "source": [
    "any_2sum([12, 10, 7, 8, 9, 20], 19)"
   ]
  },
  {
   "cell_type": "code",
   "execution_count": 14,
   "metadata": {},
   "outputs": [
    {
     "data": {
      "text/plain": [
       "[[34, 13], [47, 0]]"
      ]
     },
     "execution_count": 14,
     "metadata": {},
     "output_type": "execute_result"
    }
   ],
   "source": [
    "any_2sum([13, 56, 78, 34, 25, 0, 9, 30, 52, 47], 47)"
   ]
  },
  {
   "cell_type": "markdown",
   "metadata": {},
   "source": [
    "Function any_2sum has a time complexity of O(n) due to the one for loop.\n",
    "\n",
    "Below is the proof for the time complexity."
   ]
  },
  {
   "cell_type": "code",
   "execution_count": 1,
   "metadata": {},
   "outputs": [],
   "source": [
    "import time\n",
    "\n",
    "def any_2sum(arr, sumValue):\n",
    "    pairs = []\n",
    "    table = {}\n",
    "    \n",
    "    start = time.time()\n",
    "    for i in range(0, len(arr)):\n",
    "        # Get complimentary number to make sum\n",
    "        complimentaryNumber = sumValue - arr[i]\n",
    "        \n",
    "        if complimentaryNumber in table:\n",
    "            # Make list of pair(s)\n",
    "            pairs.append([arr[i], complimentaryNumber])\n",
    "        # Add value into table    \n",
    "        table[arr[i]] = arr[i]\n",
    "    \n",
    "    end = time.time()\n",
    "    total_time = end - start\n",
    "    print(\"Total time: {}\").format(total_time)\n",
    "    return pairs"
   ]
  },
  {
   "cell_type": "code",
   "execution_count": 2,
   "metadata": {},
   "outputs": [
    {
     "name": "stdout",
     "output_type": "stream",
     "text": [
      "Total time: 5.00679016113e-06\n"
     ]
    },
    {
     "data": {
      "text/plain": [
       "[[7, 10]]"
      ]
     },
     "execution_count": 2,
     "metadata": {},
     "output_type": "execute_result"
    }
   ],
   "source": [
    "any_2sum([10, 15, 3, 7], 17)"
   ]
  },
  {
   "cell_type": "code",
   "execution_count": 3,
   "metadata": {},
   "outputs": [
    {
     "name": "stdout",
     "output_type": "stream",
     "text": [
      "Total time: 5.96046447754e-06\n"
     ]
    },
    {
     "data": {
      "text/plain": [
       "[]"
      ]
     },
     "execution_count": 3,
     "metadata": {},
     "output_type": "execute_result"
    }
   ],
   "source": [
    "any_2sum([12, 45, 23, 3], 46)"
   ]
  },
  {
   "cell_type": "code",
   "execution_count": 4,
   "metadata": {},
   "outputs": [
    {
     "name": "stdout",
     "output_type": "stream",
     "text": [
      "Total time: 1.09672546387e-05\n"
     ]
    },
    {
     "data": {
      "text/plain": [
       "[[7, 12], [9, 10]]"
      ]
     },
     "execution_count": 4,
     "metadata": {},
     "output_type": "execute_result"
    }
   ],
   "source": [
    "any_2sum([12, 10, 7, 8, 9, 20], 19)"
   ]
  },
  {
   "cell_type": "code",
   "execution_count": 5,
   "metadata": {},
   "outputs": [
    {
     "name": "stdout",
     "output_type": "stream",
     "text": [
      "Total time: 1.28746032715e-05\n"
     ]
    },
    {
     "data": {
      "text/plain": [
       "[[34, 13], [47, 0]]"
      ]
     },
     "execution_count": 5,
     "metadata": {},
     "output_type": "execute_result"
    }
   ],
   "source": [
    "any_2sum([13, 56, 78, 34, 25, 0, 9, 30, 52, 47], 47)"
   ]
  }
 ],
 "metadata": {
  "kernelspec": {
   "display_name": "Python [conda env:anaconda3]",
   "language": "python",
   "name": "conda-env-anaconda3-py"
  },
  "language_info": {
   "codemirror_mode": {
    "name": "ipython",
    "version": 2
   },
   "file_extension": ".py",
   "mimetype": "text/x-python",
   "name": "python",
   "nbconvert_exporter": "python",
   "pygments_lexer": "ipython2",
   "version": "2.7.15"
  }
 },
 "nbformat": 4,
 "nbformat_minor": 2
}
